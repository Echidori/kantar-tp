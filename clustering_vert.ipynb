{
 "cells": [
  {
   "metadata": {},
   "cell_type": "code",
   "source": [
    "import pandas as pd\n",
    "import numpy as np\n",
    "import matplotlib.pyplot as plt\n",
    "import seaborn as sns\n",
    "\n",
    "from sklearn.cluster import KMeans\n",
    "from sklearn.preprocessing import StandardScaler\n",
    "from sklearn.decomposition import PCA\n",
    "from scipy.cluster.hierarchy import dendrogram, linkage\n",
    "from scipy.spatial.distance import pdist, squareform\n"
   ],
   "id": "2f94a5a00fd60cd6",
   "outputs": [],
   "execution_count": null
  },
  {
   "metadata": {},
   "cell_type": "code",
   "source": [
    "fic_epita_kantar_codes = pd.read_csv('data/fic_epita_kantar_codes.csv', sep=';')\n",
    "fic_epita_kantar_codes"
   ],
   "id": "b38db62ae39ba1e6",
   "outputs": [],
   "execution_count": null
  },
  {
   "metadata": {},
   "cell_type": "code",
   "source": [
    "from utils.utils import select_features\n",
    "\n",
    "a = ['A11', 'A12', 'A13', 'A14', 'A4', 'A5', 'A5bis', \n",
    "           'A8_1_slice', 'A8_2_slice', 'A8_3_slice', 'A8_4_slice', \n",
    "           'B1_1_slice', 'B1_2_slice', 'B2_1_slice', 'B2_2_slice', \n",
    "           'B3', 'B4', 'B6', \n",
    "           'C1_1_slice', 'C1_2_slice', 'C1_3_slice', 'C1_4_slice', \n",
    "           'C1_5_slice', 'C1_6_slice', 'C1_7_slice', 'C1_8_slice', \n",
    "           'C1_9_slice']\n",
    "\n",
    "# Combine these columns into a feature space\n",
    "features = select_features(fic_epita_kantar_codes, a)\n",
    "features"
   ],
   "id": "d6d61f830c5531ca",
   "outputs": [],
   "execution_count": null
  },
  {
   "metadata": {},
   "cell_type": "code",
   "source": [
    "# We can fill the missing values with 0 based on the nature of the questions\n",
    "features.fillna(0, inplace=True)\n",
    "features = features.values"
   ],
   "id": "23e64f6f4d0e589",
   "outputs": [],
   "execution_count": null
  },
  {
   "metadata": {},
   "cell_type": "code",
   "source": [
    "weights = fic_epita_kantar_codes['weight'].values\n",
    "\n",
    "len(weights)"
   ],
   "id": "5a3f23c524285336",
   "outputs": [],
   "execution_count": null
  },
  {
   "metadata": {},
   "cell_type": "code",
   "source": [
    "# Standardize the feature space\n",
    "scaler = StandardScaler()\n",
    "features_scaled = scaler.fit_transform(features)\n",
    "\n",
    "features_scaled[0]"
   ],
   "id": "2f4f61911f357712",
   "outputs": [],
   "execution_count": null
  },
  {
   "metadata": {},
   "cell_type": "code",
   "source": [
    "inertia = []\n",
    "k_range = range(2, 11)  # Essayer de 1 à 10 clusters\n",
    "\n",
    "for k in k_range:\n",
    "    kmeans = KMeans(n_clusters=k, random_state=42)\n",
    "    kmeans.fit(features_scaled, sample_weight=weights)\n",
    "    inertia.append(kmeans.inertia_)\n",
    "\n",
    "# Affichage du graphique de la méthode du coude\n",
    "plt.figure(figsize=(8, 5))\n",
    "plt.plot(k_range, inertia, marker='o')\n",
    "plt.title(\"Elbow Method for Optimal k in K-means\")\n",
    "plt.xlabel(\"Number of Clusters (k)\")\n",
    "plt.ylabel(\"Inertia\")\n",
    "plt.xticks(k_range)\n",
    "plt.show()"
   ],
   "id": "2788c73769ac2e99",
   "outputs": [],
   "execution_count": null
  },
  {
   "metadata": {},
   "cell_type": "code",
   "source": [
    "from utils.utils import weighted_distance_matrix\n",
    "\n",
    "weighted_distances = weighted_distance_matrix(features_scaled, weights)\n",
    "\n",
    "# Conversion en format condensé pour linkage\n",
    "condensed_weighted_distances = squareform(weighted_distances)\n",
    "\n",
    "# Clustering hiérarchique avec la matrice de distances pondérées\n",
    "Z = linkage(condensed_weighted_distances, method='ward')\n",
    "Z"
   ],
   "id": "e33383e19d15883f",
   "outputs": [],
   "execution_count": null
  },
  {
   "metadata": {},
   "cell_type": "code",
   "source": [
    "plt.figure(figsize=(25, 10))\n",
    "dendrogram(Z, orientation='top')\n",
    "plt.show()"
   ],
   "id": "82d9fddceda1085",
   "outputs": [],
   "execution_count": null
  }
 ],
 "metadata": {
  "kernelspec": {
   "display_name": "Python 3",
   "language": "python",
   "name": "python3"
  },
  "language_info": {
   "codemirror_mode": {
    "name": "ipython",
    "version": 2
   },
   "file_extension": ".py",
   "mimetype": "text/x-python",
   "name": "python",
   "nbconvert_exporter": "python",
   "pygments_lexer": "ipython2",
   "version": "2.7.6"
  }
 },
 "nbformat": 4,
 "nbformat_minor": 5
}
