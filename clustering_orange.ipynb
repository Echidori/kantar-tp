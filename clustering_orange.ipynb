{
 "cells": [
  {
   "metadata": {},
   "cell_type": "code",
   "source": [
    "import pandas as pd\n",
    "import numpy as np\n",
    "import matplotlib.pyplot as plt\n",
    "import seaborn as sns\n",
    "\n",
    "from sklearn.cluster import KMeans\n",
    "from sklearn.preprocessing import StandardScaler\n",
    "from sklearn.decomposition import PCA\n",
    "from scipy.cluster.hierarchy import dendrogram, linkage\n",
    "from scipy.spatial.distance import pdist, squareform\n"
   ],
   "id": "2f94a5a00fd60cd6",
   "outputs": [],
   "execution_count": null
  },
  {
   "metadata": {},
   "cell_type": "code",
   "source": [
    "fic_epita_kantar_codes = pd.read_csv('data/fic_epita_kantar_codes.csv', sep=';')\n",
    "fic_epita_kantar_codes"
   ],
   "id": "b38db62ae39ba1e6",
   "outputs": [],
   "execution_count": null
  },
  {
   "metadata": {},
   "cell_type": "code",
   "source": [
    "from utils.utils import select_features\n",
    "columns = [\n",
    "    'A9_1_slice', 'A9_2_slice', 'A9_3_slice', 'A9_4_slice', 'A9_5_slice', \n",
    "    'A9_6_slice', 'A9_7_slice', 'A9_8_slice', 'A9_9_slice', 'A9_10_slice', \n",
    "    'A9_11_slice', 'A9_12_slice', 'A9_13_slice', 'A9_14_slice', 'A9_15_slice', \n",
    "    'A9_16_slice', 'A10_1_slice', 'A10_2_slice', 'A10_3_slice', 'A10_4_slice', \n",
    "    'A10_5_slice', 'A10_6_slice', 'A10_7_slice', 'A10_8_slice', 'A11_1_slice', \n",
    "    'A11_2_slice', 'A11_3_slice', 'A11_4_slice', 'A11_5_slice', 'A11_6_slice', \n",
    "    'A11_7_slice', 'A11_8_slice', 'A11_9_slice', 'A11_10_slice', 'A11_11_slice', \n",
    "    'A11_12_slice', 'A11_13_slice'\n",
    "]\n",
    "\n",
    "# Combine these columns into a feature space\n",
    "features = select_features(fic_epita_kantar_codes, columns)\n",
    "features = features.values\n",
    "features"
   ],
   "id": "d6d61f830c5531ca",
   "outputs": [],
   "execution_count": null
  },
  {
   "metadata": {},
   "cell_type": "code",
   "source": [
    "weights = fic_epita_kantar_codes['weight'].values\n",
    "\n",
    "len(weights)"
   ],
   "id": "5a3f23c524285336",
   "outputs": [],
   "execution_count": null
  },
  {
   "metadata": {},
   "cell_type": "code",
   "source": [
    "# Standardize the feature space\n",
    "scaler = StandardScaler()\n",
    "features_scaled = scaler.fit_transform(features)\n",
    "\n",
    "features_scaled[0]"
   ],
   "id": "2f4f61911f357712",
   "outputs": [],
   "execution_count": null
  },
  {
   "metadata": {},
   "cell_type": "code",
   "source": [
    "inertia = []\n",
    "k_range = range(2, 11)  # Essayer de 1 à 10 clusters\n",
    "\n",
    "for k in k_range:\n",
    "    kmeans = KMeans(n_clusters=k, random_state=42)\n",
    "    kmeans.fit(features_scaled, sample_weight=weights)\n",
    "    inertia.append(kmeans.inertia_)\n",
    "\n",
    "# Affichage du graphique de la méthode du coude\n",
    "plt.figure(figsize=(8, 5))\n",
    "plt.plot(k_range, inertia, marker='o')\n",
    "plt.title(\"Elbow Method for Optimal k in K-means\")\n",
    "plt.xlabel(\"Number of Clusters (k)\")\n",
    "plt.ylabel(\"Inertia\")\n",
    "plt.xticks(k_range)\n",
    "plt.show()"
   ],
   "id": "2788c73769ac2e99",
   "outputs": [],
   "execution_count": null
  },
  {
   "metadata": {},
   "cell_type": "code",
   "source": [
    "from utils.utils import weighted_distance_matrix\n",
    "\n",
    "weighted_distances = weighted_distance_matrix(features_scaled, weights)\n",
    "\n",
    "# Conversion en format condensé pour linkage\n",
    "condensed_weighted_distances = squareform(weighted_distances)\n",
    "\n",
    "# Clustering hiérarchique avec la matrice de distances pondérées\n",
    "Z = linkage(condensed_weighted_distances, method='ward')\n",
    "Z"
   ],
   "id": "e33383e19d15883f",
   "outputs": [],
   "execution_count": null
  },
  {
   "metadata": {},
   "cell_type": "code",
   "source": [
    "plt.figure(figsize=(25, 10))\n",
    "dendrogram(Z, orientation='top')\n",
    "plt.show()"
   ],
   "id": "82d9fddceda1085",
   "outputs": [],
   "execution_count": null
  },
  {
   "metadata": {},
   "cell_type": "code",
   "source": "",
   "id": "8676ad05939731d4",
   "outputs": [],
   "execution_count": null
  }
 ],
 "metadata": {
  "kernelspec": {
   "display_name": "Python 3",
   "language": "python",
   "name": "python3"
  },
  "language_info": {
   "codemirror_mode": {
    "name": "ipython",
    "version": 2
   },
   "file_extension": ".py",
   "mimetype": "text/x-python",
   "name": "python",
   "nbconvert_exporter": "python",
   "pygments_lexer": "ipython2",
   "version": "2.7.6"
  }
 },
 "nbformat": 4,
 "nbformat_minor": 5
}
